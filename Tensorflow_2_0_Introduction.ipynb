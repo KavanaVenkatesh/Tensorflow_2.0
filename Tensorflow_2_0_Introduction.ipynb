{
  "nbformat": 4,
  "nbformat_minor": 0,
  "metadata": {
    "colab": {
      "name": "Tensorflow_2.0_Introduction.ipynb",
      "provenance": [],
      "collapsed_sections": []
    },
    "kernelspec": {
      "name": "python3",
      "display_name": "Python 3"
    }
  },
  "cells": [
    {
      "cell_type": "markdown",
      "metadata": {
        "id": "2N9o7AItAzmA",
        "colab_type": "text"
      },
      "source": [
        "# Tensorflow 2.0 "
      ]
    },
    {
      "cell_type": "markdown",
      "metadata": {
        "id": "5A57jesZBIrP",
        "colab_type": "text"
      },
      "source": [
        "TensorFlow started as an open-source deep learning library and has today evolved into an end to end machine learning platform that includes tools, libraries and resources for the research community to push the state of the art in deep learning and developers in the industry to build ML & DL powered applications.\n",
        "\n",
        "Tensorflow works based on the following two components:\n",
        "\n",
        "\n",
        "\n",
        "*   Graph\n",
        "*   Session\n",
        "\n",
        "A Graph is a connected network of variables created in the tensorflow environment after their initialization. Graph represents the relationship between variables and layers and does not contain the information about the value of the variables. For eg, if you have a=2 and b=3 and c=a+b, a graph views this information like this: there is a variable a, there is a variable b and the variable c is the sum of a and b. But graph does not assign values to a, b or c.\n",
        "\n",
        "The values associated with the variables are assigned to them using a session. A session is an environment in which objects in the graph are executed. The session holds the values of the elements in the graph. By running a session, we can assign values to the elements in the graph and also perform operation on them. \n",
        "\n",
        "\n",
        "\n"
      ]
    },
    {
      "cell_type": "markdown",
      "metadata": {
        "id": "c7X5rcNuA2f4",
        "colab_type": "text"
      },
      "source": [
        "## Importing Tensorflow"
      ]
    },
    {
      "cell_type": "code",
      "metadata": {
        "id": "yMprJbSCG4pa",
        "colab_type": "code",
        "colab": {
          "base_uri": "https://localhost:8080/",
          "height": 120
        },
        "outputId": "968fc449-015e-40c7-ea6c-b8d499bb79b6"
      },
      "source": [
        "# Import the 2.0 version of the tensorflow\n",
        "%tensorflow_version 2.x                            # This line is not required if you are on your own notebook\n",
        "import tensorflow as tf\n",
        "print(tf.version)"
      ],
      "execution_count": 1,
      "outputs": [
        {
          "output_type": "stream",
          "text": [
            "`%tensorflow_version` only switches the major version: 1.x or 2.x.\n",
            "You set: `2.x                            # This line is not required if you are on your own notebook`. This will be interpreted as: `2.x`.\n",
            "\n",
            "\n",
            "TensorFlow 2.x selected.\n",
            "<module 'tensorflow._api.v2.version' from '/usr/local/lib/python3.6/dist-packages/tensorflow/_api/v2/version/__init__.py'>\n"
          ],
          "name": "stdout"
        }
      ]
    },
    {
      "cell_type": "markdown",
      "metadata": {
        "id": "Bp5UvlVWAxz_",
        "colab_type": "text"
      },
      "source": [
        "# What are Tensors?"
      ]
    },
    {
      "cell_type": "markdown",
      "metadata": {
        "id": "18mBwyqVIhDI",
        "colab_type": "text"
      },
      "source": [
        "A Tensor is a generalization of arrays and matrices in higher dimensions. Tensorflow represents tensors as n-dimensional arrays of base data type. \n",
        "\n",
        "Tensorflow works by passing and manipulating tensors as its main object. Tensorflow programs work by building a graph of tensor objects that explains how tensors are related. Results are produced by running different parts of the graph. \n",
        "\n",
        "Each tensor has a data type and a shape.\n",
        "\n",
        "Data types include: float32, int32, string and others\n",
        "Shape: Represents the dimension of the data."
      ]
    },
    {
      "cell_type": "markdown",
      "metadata": {
        "id": "q8G9xJtVKqjY",
        "colab_type": "text"
      },
      "source": [
        "## Creating Tensors"
      ]
    },
    {
      "cell_type": "markdown",
      "metadata": {
        "id": "C-acibqIK_Ro",
        "colab_type": "text"
      },
      "source": [
        "Below is an example of how to create different types of tensors."
      ]
    },
    {
      "cell_type": "code",
      "metadata": {
        "id": "t7yXXTAGK5SU",
        "colab_type": "code",
        "colab": {
          "base_uri": "https://localhost:8080/",
          "height": 34
        },
        "outputId": "453091e5-898d-463c-f2ce-8d9ad961a4ff"
      },
      "source": [
        "string= tf.Variable(\"This is a string\", tf.string)\n",
        "number= tf.Variable(858, tf.int16)\n",
        "floating= tf.Variable(5.64, tf.float16)\n",
        "print(number)                                      # Unlike in tf version 1, wherein we needed to run a session, tf version 2 comes with EAGER EXECUTION- Calculating values as \n",
        "                                                   # they occur in our code."
      ],
      "execution_count": 13,
      "outputs": [
        {
          "output_type": "stream",
          "text": [
            "<tf.Variable 'Variable:0' shape=() dtype=int32, numpy=858>\n"
          ],
          "name": "stdout"
        }
      ]
    },
    {
      "cell_type": "code",
      "metadata": {
        "id": "C4SZDkYuYMuD",
        "colab_type": "code",
        "colab": {
          "base_uri": "https://localhost:8080/",
          "height": 120
        },
        "outputId": "2f0be3ca-c394-4b2d-a6e6-ccb849755588"
      },
      "source": [
        "# Creating a tensor of constants using tf.constant\n",
        "a=tf.constant([[1,2,3],[5,6,7]])\n",
        "\n",
        "# You can get the shape of the tensor using tensor.shape\n",
        "print(\"The shape of the tensor using .shape method is\", a.shape)          # Only prints the shape of the tensor\n",
        "\n",
        "print('\\n')\n",
        "\n",
        "# tf.get_shape is equivalent to tf.shape                               \n",
        "print(\"The shape of the tensor using .get_shape method is\", a.get_shape)  # Prints the tensor along with the shape"
      ],
      "execution_count": 33,
      "outputs": [
        {
          "output_type": "stream",
          "text": [
            "The shape of the tensor using .shape method is (2, 3)\n",
            "\n",
            "\n",
            "The shape of the tensor using .get_shape method is <bound method _EagerTensorBase.get_shape of <tf.Tensor: shape=(2, 3), dtype=int32, numpy=\n",
            "array([[1, 2, 3],\n",
            "       [5, 6, 7]], dtype=int32)>>\n"
          ],
          "name": "stdout"
        }
      ]
    },
    {
      "cell_type": "markdown",
      "metadata": {
        "id": "2tQ7EFihSLwX",
        "colab_type": "text"
      },
      "source": [
        "## Rank/Degree of Tensors"
      ]
    },
    {
      "cell_type": "markdown",
      "metadata": {
        "id": "sU2LnlThSnG6",
        "colab_type": "text"
      },
      "source": [
        "Rank of a tensor represents the number of dimensions or independent rows/columns present in the tensor. Tensorflow allows us to create 1 or more dimensional tensors. A one dimensional tensor is called, a scalar."
      ]
    },
    {
      "cell_type": "code",
      "metadata": {
        "id": "o9R9rH53PS0V",
        "colab_type": "code",
        "colab": {
          "base_uri": "https://localhost:8080/",
          "height": 69
        },
        "outputId": "046ff2fa-df17-4817-aa85-96ce19c3664b"
      },
      "source": [
        "rank1_tensor= tf.Variable([\"Hello\"], tf.string)\n",
        "rank2_tensor= tf.Variable([[\"Hello\", \"Kavana\"], [\"Good\", \"Morning!\"]], tf.string)\n",
        "\n",
        "# Print the tensor\n",
        "print(rank2_tensor)"
      ],
      "execution_count": 15,
      "outputs": [
        {
          "output_type": "stream",
          "text": [
            "<tf.Variable 'Variable:0' shape=(2, 2) dtype=string, numpy=\n",
            "array([[b'Hello', b'Kavana'],\n",
            "       [b'Good', b'Morning!']], dtype=object)>\n"
          ],
          "name": "stdout"
        }
      ]
    },
    {
      "cell_type": "markdown",
      "metadata": {
        "id": "ffJytaWiT0nB",
        "colab_type": "text"
      },
      "source": [
        "Let us determine the rank of the tensor using tf.rank()"
      ]
    },
    {
      "cell_type": "code",
      "metadata": {
        "id": "yqy_vq45Tj1P",
        "colab_type": "code",
        "colab": {
          "base_uri": "https://localhost:8080/",
          "height": 34
        },
        "outputId": "18614c8d-f8b8-4df8-d0c8-954a4f5ea99d"
      },
      "source": [
        "tf.rank(rank2_tensor)"
      ],
      "execution_count": 16,
      "outputs": [
        {
          "output_type": "execute_result",
          "data": {
            "text/plain": [
              "<tf.Tensor: shape=(), dtype=int32, numpy=2>"
            ]
          },
          "metadata": {
            "tags": []
          },
          "execution_count": 16
        }
      ]
    },
    {
      "cell_type": "markdown",
      "metadata": {
        "id": "c4BctAzvUn5J",
        "colab_type": "text"
      },
      "source": [
        "## Shape of Tensors"
      ]
    },
    {
      "cell_type": "markdown",
      "metadata": {
        "id": "cUWq1EwSU31X",
        "colab_type": "text"
      },
      "source": [
        "Shape of a tensor gives the number of rows and columns of the tensor; in other words, it gives the number of elements in each dimension of the tensor. \n",
        "\n",
        "We can get the shape of a tensor by using the method tensor.shape"
      ]
    },
    {
      "cell_type": "code",
      "metadata": {
        "id": "OAmrvFGEUs0t",
        "colab_type": "code",
        "colab": {
          "base_uri": "https://localhost:8080/",
          "height": 34
        },
        "outputId": "e70eb4de-3cc4-43d3-b0ed-0369ec754a65"
      },
      "source": [
        "# Let us see how to get the shape of a tensor\n",
        "rank2_tensor.shape"
      ],
      "execution_count": 17,
      "outputs": [
        {
          "output_type": "execute_result",
          "data": {
            "text/plain": [
              "TensorShape([2, 2])"
            ]
          },
          "metadata": {
            "tags": []
          },
          "execution_count": 17
        }
      ]
    },
    {
      "cell_type": "code",
      "metadata": {
        "id": "bhPDCiXhVX4h",
        "colab_type": "code",
        "colab": {
          "base_uri": "https://localhost:8080/",
          "height": 69
        },
        "outputId": "780f79bc-2480-4eea-f9f2-1faca6bbe720"
      },
      "source": [
        "# We can also use the .get_shape method to get the shape\n",
        "rank2_tensor.get_shape"
      ],
      "execution_count": 35,
      "outputs": [
        {
          "output_type": "execute_result",
          "data": {
            "text/plain": [
              "<bound method Variable.get_shape of <tf.Variable 'Variable:0' shape=(2, 2) dtype=string, numpy=\n",
              "array([[b'Hello', b'Kavana'],\n",
              "       [b'Good', b'Morning!']], dtype=object)>>"
            ]
          },
          "metadata": {
            "tags": []
          },
          "execution_count": 35
        }
      ]
    },
    {
      "cell_type": "markdown",
      "metadata": {
        "id": "1u3zesrBaaHR",
        "colab_type": "text"
      },
      "source": [
        "## Changing Shape ( reshape the Tensor)"
      ]
    },
    {
      "cell_type": "markdown",
      "metadata": {
        "id": "nEVpE_riah4B",
        "colab_type": "text"
      },
      "source": [
        "Often it is necessary that we change the shape of a tensor to make it possible to perform certain operations on the tensor. The number of elements in a tensor is given by the product of size of all its shapes. Hence, it is possible for the same number of elements to have different shapes. \n",
        "\n",
        "We can reshape a tensor using:\n",
        "\n",
        "* tf.reshape(tensor, shape, name=None)\n"
      ]
    },
    {
      "cell_type": "markdown",
      "metadata": {
        "id": "nkIXS8SFbmdK",
        "colab_type": "text"
      },
      "source": [
        "The example below shows how to change the shape of the tensor."
      ]
    },
    {
      "cell_type": "code",
      "metadata": {
        "id": "kP7ByZVfV9UQ",
        "colab_type": "code",
        "colab": {}
      },
      "source": [
        "# We can create a tensor of ones with the desired shape using tf.ones(shape, dtype=tf.dtypes.float32, name=None)\n",
        "tensor1= tf.ones([1,2,3])\n",
        "tensor2= tf.reshape(tensor1, [2,1,3])      # Reshape tensor1 to shape (2,1,3)\n",
        "tensor3= tf.reshape(tensor2, [3, -1])     # -1 tells the tensor to calculate the size of the dimension in that place.\n",
        "                                           # This will reshape the tensor to (3, 2)"
      ],
      "execution_count": 42,
      "outputs": []
    },
    {
      "cell_type": "markdown",
      "metadata": {
        "id": "VH183zrJeNUK",
        "colab_type": "text"
      },
      "source": [
        "Let us see how the 3 tensors look now. Notice the change in their shapes."
      ]
    },
    {
      "cell_type": "code",
      "metadata": {
        "id": "gl-3yea4dx9B",
        "colab_type": "code",
        "colab": {
          "base_uri": "https://localhost:8080/",
          "height": 206
        },
        "outputId": "d52643cd-a085-4bf1-f5f3-78319300e4c4"
      },
      "source": [
        "print(tensor1)\n",
        "print(tensor2)\n",
        "print(tensor3)"
      ],
      "execution_count": 43,
      "outputs": [
        {
          "output_type": "stream",
          "text": [
            "tf.Tensor(\n",
            "[[[1. 1. 1.]\n",
            "  [1. 1. 1.]]], shape=(1, 2, 3), dtype=float32)\n",
            "tf.Tensor(\n",
            "[[[1. 1. 1.]]\n",
            "\n",
            " [[1. 1. 1.]]], shape=(2, 1, 3), dtype=float32)\n",
            "tf.Tensor(\n",
            "[[1. 1.]\n",
            " [1. 1.]\n",
            " [1. 1.]], shape=(3, 2), dtype=float32)\n"
          ],
          "name": "stdout"
        }
      ]
    },
    {
      "cell_type": "markdown",
      "metadata": {
        "id": "mSfebkr9VJ59",
        "colab_type": "text"
      },
      "source": [
        "## Types of Tensors"
      ]
    },
    {
      "cell_type": "markdown",
      "metadata": {
        "id": "nAE3aKzfV6Ek",
        "colab_type": "text"
      },
      "source": [
        "There are several types of tensors supported by the tensorflow. The most commonly used tensors are:\n",
        "\n",
        "* Variable\n",
        "* Constant\n",
        "* Placeholder\n",
        "* SparseTensor\n",
        "\n",
        "Out of all the above tensors, only Variable is immutable; i.e, it's value may be changed during execution. Rest are all mutable. "
      ]
    },
    {
      "cell_type": "markdown",
      "metadata": {
        "id": "njqTvxioXGsD",
        "colab_type": "text"
      },
      "source": [
        "## Some Examples"
      ]
    },
    {
      "cell_type": "markdown",
      "metadata": {
        "id": "61SdoNtkXKh8",
        "colab_type": "text"
      },
      "source": [
        "Let us look at some of the examples of reshaping tensors and some other basic operations."
      ]
    },
    {
      "cell_type": "code",
      "metadata": {
        "id": "8_V1HkrAV1ki",
        "colab_type": "code",
        "colab": {
          "base_uri": "https://localhost:8080/",
          "height": 137
        },
        "outputId": "bb769962-d314-4aaa-8f54-05300ef4562e"
      },
      "source": [
        "# Reshape a tensor\n",
        "t= tf.zeros([5,5,5])\n",
        "t=tf.reshape(t, [125])               # Reshape the 3-D tensor into a 1-D array; i.e, flatten the tensor\n",
        "print(t) "
      ],
      "execution_count": 49,
      "outputs": [
        {
          "output_type": "stream",
          "text": [
            "tf.Tensor(\n",
            "[0. 0. 0. 0. 0. 0. 0. 0. 0. 0. 0. 0. 0. 0. 0. 0. 0. 0. 0. 0. 0. 0. 0. 0.\n",
            " 0. 0. 0. 0. 0. 0. 0. 0. 0. 0. 0. 0. 0. 0. 0. 0. 0. 0. 0. 0. 0. 0. 0. 0.\n",
            " 0. 0. 0. 0. 0. 0. 0. 0. 0. 0. 0. 0. 0. 0. 0. 0. 0. 0. 0. 0. 0. 0. 0. 0.\n",
            " 0. 0. 0. 0. 0. 0. 0. 0. 0. 0. 0. 0. 0. 0. 0. 0. 0. 0. 0. 0. 0. 0. 0. 0.\n",
            " 0. 0. 0. 0. 0. 0. 0. 0. 0. 0. 0. 0. 0. 0. 0. 0. 0. 0. 0. 0. 0. 0. 0. 0.\n",
            " 0. 0. 0. 0. 0.], shape=(125,), dtype=float32)\n"
          ],
          "name": "stdout"
        }
      ]
    },
    {
      "cell_type": "code",
      "metadata": {
        "id": "Ia669pl1Wbdd",
        "colab_type": "code",
        "colab": {
          "base_uri": "https://localhost:8080/",
          "height": 189
        },
        "outputId": "4eb64909-72a3-4f13-ba4c-bd68c332680f"
      },
      "source": [
        "# Another example of reshape\n",
        "p= tf.ones([3,3,3])\n",
        "p= tf.reshape(p, [9,3])\n",
        "print(p)"
      ],
      "execution_count": 50,
      "outputs": [
        {
          "output_type": "stream",
          "text": [
            "tf.Tensor(\n",
            "[[1. 1. 1.]\n",
            " [1. 1. 1.]\n",
            " [1. 1. 1.]\n",
            " [1. 1. 1.]\n",
            " [1. 1. 1.]\n",
            " [1. 1. 1.]\n",
            " [1. 1. 1.]\n",
            " [1. 1. 1.]\n",
            " [1. 1. 1.]], shape=(9, 3), dtype=float32)\n"
          ],
          "name": "stdout"
        }
      ]
    },
    {
      "cell_type": "code",
      "metadata": {
        "id": "F78QcLSGX_qs",
        "colab_type": "code",
        "colab": {}
      },
      "source": [
        ""
      ],
      "execution_count": null,
      "outputs": []
    }
  ]
}